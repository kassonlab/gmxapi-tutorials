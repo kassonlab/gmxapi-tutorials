{
 "cells": [
  {
   "cell_type": "markdown",
   "metadata": {},
   "source": [
    "# gmxapi workshop session (part 2)\n",
    "## Goal: Simulation-Analysis loop\n",
    "\n",
    "```python\n",
    "subgraph = gmx.subgraph(\n",
    "    variables={\n",
    "        'found_native': False,\n",
    "        'checkpoint': '',\n",
    "        'min_rms': 1e6})\n",
    "with subgraph:\n",
    "    md = gmx.mdrun(\n",
    "        input_list,\n",
    "        runtime_args={\n",
    "            '-cpi': subgraph.checkpoint,\n",
    "            '-maxh': '2',\n",
    "            '-noappend': None\n",
    "        })\n",
    "\n",
    "    subgraph.checkpoint = md.output.checkpoint\n",
    "    rmsd = gmx.commandline_operation(\n",
    "        'gmx', ['rms'],\n",
    "        input_files={\n",
    "            '-s': reference_struct,\n",
    "            '-f': md.output.trajectory},\n",
    "        output_files={'-o': 'rmsd.xvg'},\n",
    "        stdin='Backbone Backbone\\n'\n",
    "    )\n",
    "    subgraph.min_rms = numeric_min(\n",
    "        xvg_to_array(rmsd.output.file['-o']).output.data).output.data\n",
    "    subgraph.found_native = less_than(lhs=subgraph.min_rms, rhs=0.3).output.data\n",
    "\n",
    "folding_loop = gmx.while_loop(\n",
    "    operation=subgraph,\n",
    "    condition=gmx.logical_not(subgraph.found_native))()\n",
    "print('Beginning folding_loop.')\n",
    "folding_loop.run()\n",
    "print(f'Finished folding_loop. min_rms: {folding_loop.output.min_rms.result()}')\n",
    "```\n",
    "\n",
    "## This material\n",
    "\n",
    "https://github.com/kassonlab/gmxapi-tutorials/tree/csc202202\n",
    "\n",
    "DOI: [10.1101/2021.07.18.452496v3](https://www.biorxiv.org/content/10.1101/2021.07.18.452496v3)\n",
    "\n",
    "Funnelweb spider peptide structure files from\n",
    "* Sorin and Pande, 2005; doi:10.1529/biophysj.104.051938\n",
    "(used with permission)."
   ]
  },
  {
   "cell_type": "markdown",
   "metadata": {},
   "source": [
    "## Quick check"
   ]
  },
  {
   "cell_type": "code",
   "execution_count": null,
   "metadata": {},
   "outputs": [],
   "source": [
    "# Assumes we are in `./AdvancedGromacsCourse/gmxapi-tutorials/gmxapi-introduction`\n",
    "# and the tutorial material is in `../`\n",
    "# Check!\n",
    "import os\n",
    "from pathlib import Path\n",
    "notebook_dir = Path(os.getcwd())\n",
    "tutorials_dir = notebook_dir.parent\n",
    "input_dir = tutorials_dir / 'input_files' / 'fs-peptide'\n",
    "assert input_dir.exists()"
   ]
  },
  {
   "cell_type": "code",
   "execution_count": null,
   "metadata": {},
   "outputs": [],
   "source": [
    "import gmxapi as gmx\n",
    "assert gmx.version.api_is_at_least(0, 3) "
   ]
  },
  {
   "cell_type": "code",
   "execution_count": null,
   "metadata": {},
   "outputs": [],
   "source": [
    "os.makedirs('exercise2', exist_ok=True)\n",
    "os.chdir('exercise2')"
   ]
  },
  {
   "cell_type": "code",
   "execution_count": null,
   "metadata": {},
   "outputs": [],
   "source": [
    "os.getcwd()"
   ]
  },
  {
   "cell_type": "markdown",
   "metadata": {},
   "source": [
    "# Helper functions"
   ]
  },
  {
   "cell_type": "code",
   "execution_count": null,
   "metadata": {},
   "outputs": [],
   "source": [
    "import logging\n",
    "import typing\n",
    "\n",
    "from gmxapi import function_wrapper\n",
    "\n",
    "def less_than(lhs: typing.SupportsFloat, rhs: typing.SupportsFloat):\n",
    "    \"\"\"Compare the left-hand-side to the right-hand-side.\n",
    "\n",
    "    Follows the Numpy logic for normalizing the numeric types of *lhs* and *rhs*.\n",
    "    \"\"\"\n",
    "    import numpy as np\n",
    "    dtype = int\n",
    "    if any(isinstance(operand, float) for operand in (lhs, rhs)):\n",
    "        dtype = float\n",
    "    elif all(isinstance(operand, typing.SupportsFloat) for operand in (lhs, rhs)):\n",
    "        if type(np.asarray([lhs, rhs])[0].item()) is float:\n",
    "            dtype = float\n",
    "    elif any(isinstance(operand, gmxapi.abc.Future) for operand in (lhs, rhs)):\n",
    "        for item in (lhs, rhs):\n",
    "            if hasattr(item, 'dtype'):\n",
    "                if issubclass(item.dtype, (float, np.float)):\n",
    "                    dtype = float\n",
    "            elif hasattr(item, 'description'):\n",
    "                if issubclass(item.description.dtype, (float, np.float)):\n",
    "                    dtype = float\n",
    "    else:\n",
    "        raise UsageError(f'No handling for [{repr(lhs)}, {repr(rhs)}].')\n",
    "\n",
    "    if dtype is int:\n",
    "        def _less_than(lhs: int, rhs: int) -> bool:\n",
    "            return lhs < rhs\n",
    "    elif dtype is float:\n",
    "        def _less_than(lhs: float, rhs: float) -> bool:\n",
    "            return lhs < rhs\n",
    "    else:\n",
    "        raise UsageError('Operation only supports standard numeric types.')\n",
    "    return function_wrapper()(_less_than)(lhs=lhs, rhs=rhs)\n",
    "\n",
    "\n",
    "@function_wrapper()\n",
    "def _numpy_min_float(data: gmx.NDArray) -> float:\n",
    "    import numpy as np\n",
    "    logging.info(f'Looking for minimum in {data}')\n",
    "    return float(np.min(data._values))\n",
    "\n",
    "\n",
    "def numeric_min(array):\n",
    "    \"\"\"Find the minimum value in an array.\n",
    "    \"\"\"\n",
    "    return _numpy_min_float(data=array)\n",
    "\n",
    "\n",
    "@gmx.function_wrapper(output={'data': gmx.NDArray})\n",
    "def xvg_to_array(path: str, output):\n",
    "    \"\"\"Get an NxM array from a GROMACS xvg data file.\n",
    "\n",
    "    For energy output, N is the number of samples, and the first of M\n",
    "    columns contains simulation time values.\n",
    "    \"\"\"\n",
    "    import numpy\n",
    "    logging.info(f'Reading xvg file {path}.')\n",
    "    data = numpy.genfromtxt(path, comments='@', skip_header=14)\n",
    "    logging.info(f'Read array shape {data.shape} from {path}.')\n",
    "    if len(data.shape) == 1:\n",
    "        # Trajectory was too short. Only a single line was read.\n",
    "        assert data.shape[0] == 2\n",
    "        data = data.reshape((1, 2))\n",
    "    assert len(data.shape) == 2\n",
    "    output.data = data[:, 1]\n",
    "\n"
   ]
  },
  {
   "cell_type": "markdown",
   "metadata": {},
   "source": [
    "## Prepare inputs\n",
    "\n",
    "### Prepare a molecular model from a PDB file using the `pdb2gmx` GROMACS tool."
   ]
  },
  {
   "cell_type": "code",
   "execution_count": null,
   "metadata": {
    "pycharm": {
     "name": "#%%\n"
    }
   },
   "outputs": [],
   "source": [
    "# Confirm inputs exist\n",
    "assert (input_dir / 'start0.pdb').exists()"
   ]
  },
  {
   "cell_type": "code",
   "execution_count": null,
   "metadata": {},
   "outputs": [],
   "source": [
    "args = ['pdb2gmx', '-ff', 'amber99sb-ildn', '-water', 'tip3p']\n",
    "input_files = {'-f': os.path.join(input_dir, 'start0.pdb')}\n",
    "output_files = {\n",
    "        '-p': 'topol.top',\n",
    "        '-i': 'posre.itp',\n",
    "        '-o': 'conf.gro'}\n",
    "make_top = gmx.commandline_operation('gmx', args, input_files, output_files)"
   ]
  },
  {
   "cell_type": "markdown",
   "metadata": {},
   "source": [
    "### Prepare the simulation input\n",
    "\n",
    "Call the GROMACS MD preprocessor to create a simulation input file."
   ]
  },
  {
   "cell_type": "code",
   "execution_count": null,
   "metadata": {},
   "outputs": [],
   "source": [
    "# Confirm inputs exist.\n",
    "# assert os.path.exists(make_top.output.file['-o'].result())\n",
    "# assert os.path.exists(make_top.output.file['-p'].result())\n",
    "# assert os.path.exists(input_dir / 'grompp.mdp')"
   ]
  },
  {
   "cell_type": "code",
   "execution_count": null,
   "metadata": {},
   "outputs": [],
   "source": [
    "cmd_dir = input_dir\n",
    "\n",
    "grompp_input_files = {'-f': os.path.join(cmd_dir, 'grompp.mdp'),\n",
    "                      '-c': make_top.output.file['-o'],\n",
    "                      '-p': make_top.output.file['-p']}\n",
    "\n",
    "grompp = gmx.commandline_operation(\n",
    "    'gmx', ['grompp'],\n",
    "    input_files = [grompp_input_files],\n",
    "    output_files = {'-o': 'run.tpr'})\n",
    "tpr_input = grompp.output.file['-o'].result()"
   ]
  },
  {
   "cell_type": "code",
   "execution_count": null,
   "metadata": {},
   "outputs": [],
   "source": [
    "input_list = gmx.read_tpr(tpr_input)"
   ]
  },
  {
   "cell_type": "markdown",
   "metadata": {},
   "source": [
    "#### Inspect"
   ]
  },
  {
   "cell_type": "code",
   "execution_count": null,
   "metadata": {},
   "outputs": [],
   "source": [
    "input_list.output.parameters.result()"
   ]
  },
  {
   "cell_type": "markdown",
   "metadata": {},
   "source": [
    "#### Adjust input parameters"
   ]
  },
  {
   "cell_type": "code",
   "execution_count": null,
   "metadata": {},
   "outputs": [],
   "source": [
    "input_list = gmx.modify_input(input_list, parameters={'nstxout': 100})"
   ]
  },
  {
   "cell_type": "markdown",
   "metadata": {},
   "source": [
    "## Looping and custom operations"
   ]
  },
  {
   "cell_type": "code",
   "execution_count": null,
   "metadata": {},
   "outputs": [],
   "source": [
    "reference_struct = input_dir / 'ref.pdb'\n",
    "assert reference_struct.exists()"
   ]
  },
  {
   "cell_type": "code",
   "execution_count": null,
   "outputs": [],
   "source": [
    "ensemble_size = 1\n",
    "allocated_cores = 4"
   ],
   "metadata": {
    "collapsed": false,
    "pycharm": {
     "name": "#%%\n"
    }
   }
  },
  {
   "cell_type": "code",
   "execution_count": null,
   "metadata": {},
   "outputs": [],
   "source": [
    "subgraph = gmx.subgraph(\n",
    "    variables={\n",
    "        'found_native': False,\n",
    "        'checkpoint': '',\n",
    "        'min_rms': 1e6})\n",
    "with subgraph:\n",
    "    md = gmx.mdrun(\n",
    "        input_list,\n",
    "        runtime_args={\n",
    "            '-cpi': subgraph.checkpoint,\n",
    "            '-maxh': '0.001',\n",
    "            '-noappend': None,\n",
    "            '-nt': str(allocated_cores // ensemble_size)\n",
    "        })\n",
    "\n",
    "    subgraph.checkpoint = md.output.checkpoint\n",
    "    rmsd = gmx.commandline_operation(\n",
    "        'gmx', ['rms'],\n",
    "        input_files={\n",
    "            '-s': reference_struct,\n",
    "            '-f': md.output.trajectory},\n",
    "        output_files={'-o': 'rmsd.xvg'},\n",
    "        stdin='Backbone Backbone\\n'\n",
    "    )\n",
    "    subgraph.min_rms = numeric_min(\n",
    "        xvg_to_array(rmsd.output.file['-o']).output.data).output.data\n",
    "    subgraph.found_native = less_than(lhs=subgraph.min_rms, rhs=0.3).output.data\n",
    "\n",
    "folding_loop = gmx.while_loop(\n",
    "    operation=subgraph,\n",
    "    condition=gmx.logical_not(subgraph.found_native))()\n",
    "print('Beginning folding_loop.')\n",
    "folding_loop.run()\n",
    "print(f'Finished folding_loop. min_rms: {folding_loop.output.min_rms.result()}')"
   ]
  },
  {
   "cell_type": "markdown",
   "metadata": {},
   "source": [
    "# Exercise 3: Ensemble simulation\n",
    "Use the built-in mpi4py ensemble executor."
   ]
  },
  {
   "cell_type": "code",
   "execution_count": null,
   "metadata": {},
   "outputs": [],
   "source": [
    "while not str(os.getcwd()).endswith('gmxapi-introduction'):\n",
    "    os.chdir('..')\n",
    "os.getcwd()"
   ]
  },
  {
   "cell_type": "code",
   "execution_count": null,
   "metadata": {},
   "outputs": [],
   "source": [
    "os.makedirs('exercise3', exist_ok=True)\n",
    "os.chdir('exercise3')"
   ]
  },
  {
   "cell_type": "code",
   "execution_count": null,
   "metadata": {},
   "outputs": [],
   "source": [
    "script_dir = input_dir.parent.parent / 'examples'\n",
    "example = script_dir / 'fs-peptide.py'\n",
    "assert os.path.exists(example)"
   ]
  },
  {
   "cell_type": "code",
   "execution_count": null,
   "outputs": [],
   "source": [
    "!g=($(printenv | grep SLURM | cut -d \"=\" -f1 )); for a in \"${g[@]}\" ; do unset $a ; done; mpirun  -n 4 -hosts=localhost python3 -m mpi4py -c 'import gmxapi; from mpi4py import MPI; print(MPI.COMM_WORLD.Get_rank())'"
   ],
   "metadata": {
    "collapsed": false,
    "pycharm": {
     "name": "#%%\n"
    }
   }
  },
  {
   "cell_type": "code",
   "execution_count": null,
   "metadata": {},
   "outputs": [],
   "source": [
    "!echo mpiexec -n 5 `which python` -m mpi4py $example"
   ]
  },
  {
   "cell_type": "code",
   "execution_count": null,
   "metadata": {},
   "outputs": [],
   "source": [
    "!srun --help\n"
   ]
  }
 ],
 "metadata": {
  "kernelspec": {
   "display_name": "Python 3 (ipykernel)",
   "language": "python",
   "name": "python3"
  },
  "language_info": {
   "codemirror_mode": {
    "name": "ipython",
    "version": 3
   },
   "file_extension": ".py",
   "mimetype": "text/x-python",
   "name": "python",
   "nbconvert_exporter": "python",
   "pygments_lexer": "ipython3",
   "version": "3.7.7"
  }
 },
 "nbformat": 4,
 "nbformat_minor": 1
}