{
 "cells": [
  {
   "cell_type": "markdown",
   "metadata": {},
   "source": [
    "# Figure 1\n",
    "\n",
    "- **a:** gmxapi command-line operation\n",
    "- **b:** gmxapi command on ensemble input\n",
    "- **c:** looping and custom operations\n",
    "\n",
    "Funnelweb spider peptide structure files from\n",
    "* Sorin and Pande, 2005; doi:10.1529/biophysj.104.051938\n",
    "(used with permission).\n",
    "\n",
    "Note: MPI ensemble is not currently feasible in a Jupyter notebook."
   ]
  },
  {
   "cell_type": "code",
   "execution_count": null,
   "metadata": {
    "pycharm": {
     "name": "#%%\n"
    }
   },
   "outputs": [],
   "source": [
    "import os\n",
    "from pathlib import Path"
   ]
  },
  {
   "cell_type": "code",
   "execution_count": null,
   "metadata": {
    "pycharm": {
     "name": "#%%\n"
    }
   },
   "outputs": [],
   "source": [
    "# Assumes the notebook is being run directly from the repository.\n",
    "# Otherwise, you must set PROJECT_DIR environment variable or edit the following.\n",
    "project_dir = Path(os.getenv('PROJECT_DIR', Path(os.getcwd()).parent))\n",
    "assert (project_dir / 'notebooks').exists()\n",
    "assert (project_dir / 'input' / 'fs-peptide').exists()"
   ]
  },
  {
   "cell_type": "markdown",
   "metadata": {},
   "source": [
    "## Virtual environment\n",
    "If you have not already, create a Python virtual environment, activate it, and launch Jupyter Notebook from the virtual environment."
   ]
  },
  {
   "cell_type": "code",
   "execution_count": null,
   "metadata": {},
   "outputs": [],
   "source": [
    "VIRTUAL_ENV = os.getenv('VIRTUAL_ENV')\n",
    "if not VIRTUAL_ENV:\n",
    "    print('No virtual environment active. Consider creating and activating one. Suggestion:')\n",
    "    VIRTUAL_ENV = project_dir / \"venv\"\n",
    "    print(f'python3 -m venv {VIRTUAL_ENV}')\n",
    "    print(f'. {VIRTUAL_ENV}/bin/activate')\n",
    "    print('pip install --upgrade pip setuptools wheel')\n",
    "    print('pip install --upgrade cmake jupyter')\n",
    "print(f'Virtual environment: {VIRTUAL_ENV}')"
   ]
  },
  {
   "cell_type": "code",
   "execution_count": null,
   "metadata": {
    "pycharm": {
     "name": "#%%\n"
    }
   },
   "outputs": [],
   "source": [
    "# Import gmxapi package\n",
    "import gmxapi as gmx\n",
    "print(f'gmxapi Python package version {gmx.__version__}')"
   ]
  },
  {
   "cell_type": "markdown",
   "metadata": {},
   "source": [
    "## Figure 1a: gmxapi command-line operation\n",
    "Prepare a molecular model from a PDB file using the `pdb2gmx` GROMACS tool."
   ]
  },
  {
   "cell_type": "code",
   "execution_count": null,
   "metadata": {
    "pycharm": {
     "name": "#%%\n"
    }
   },
   "outputs": [],
   "source": [
    "# Confirm inputs exist\n",
    "input_dir = project_dir / 'input' / 'fs-peptide'\n",
    "assert (input_dir / 'start0.pdb').exists()"
   ]
  },
  {
   "cell_type": "code",
   "execution_count": null,
   "metadata": {},
   "outputs": [],
   "source": [
    "# Figure 1a code\n",
    "args = ['pdb2gmx', '-ff', 'amber99sb-ildn', '-water', 'tip3p']\n",
    "input_files = {'-f': os.path.join(input_dir, 'start0.pdb')}\n",
    "output_files = {\n",
    "        '-p': 'topol.top',\n",
    "        '-i': 'posre.itp',\n",
    "        '-o': 'conf.gro'}\n",
    "make_top = gmx.commandline_operation('gmx', args, input_files, output_files)"
   ]
  },
  {
   "cell_type": "markdown",
   "metadata": {},
   "source": [
    "## Figure 1b: gmxapi command on ensemble input\n",
    "Call the GROMACS MD preprocessor to create a simulation input file. Declare an ensemble simulation workflow starting from the single input file.\n",
    "\n",
    "Note: MPI ensemble not represented in Jupyter notebook"
   ]
  },
  {
   "cell_type": "code",
   "execution_count": null,
   "metadata": {},
   "outputs": [],
   "source": [
    "# Confirm inputs exist.\n",
    "make_top.run()\n",
    "assert os.path.exists(make_top.output.file['-o'].result())\n",
    "assert os.path.exists(make_top.output.file['-p'].result())\n",
    "cmd_dir = input_dir\n",
    "assert os.path.exists(input_dir / 'grompp.mdp')"
   ]
  },
  {
   "cell_type": "code",
   "execution_count": null,
   "metadata": {},
   "outputs": [],
   "source": [
    "# Figure 1b code.\n",
    "grompp_input_files = {'-f': os.path.join(cmd_dir, 'grompp.mdp'),\n",
    "                      '-c': make_top.output.file['-o'],\n",
    "                      '-p': make_top.output.file['-p']}\n",
    "\n",
    "# make array of inputs\n",
    "N = 50\n",
    "grompp = gmx.commandline_operation(\n",
    "    'gmx', ['grompp'],\n",
    "    input_files = [grompp_input_files] * N,\n",
    "    output_files = {'-o': 'run.tpr'})\n",
    "tpr_input = grompp.output.file['-o'].result()\n",
    "\n",
    "input_list = gmx.read_tpr(tpr_input)\n",
    "\n",
    "md = gmx.mdrun(input_list)\n",
    "md.run()\n",
    "\n",
    "print(md.output.trajectory.result())"
   ]
  },
  {
   "cell_type": "markdown",
   "metadata": {},
   "source": [
    "## Figure 1c: looping and custom operations"
   ]
  },
  {
   "cell_type": "code",
   "execution_count": null,
   "metadata": {},
   "outputs": [],
   "source": [
    "reference_struct = input_dir / 'ref.pdb'\n",
    "assert reference_struct.exists()"
   ]
  },
  {
   "cell_type": "code",
   "execution_count": null,
   "metadata": {},
   "outputs": [],
   "source": [
    "subgraph = gmx.subgraph(variables = {'found_native': False, 'checkpoint': '', 'min_rms': 1e6})\n",
    "with subgraph:\n",
    "    md = gmx.mdrun(input_list, runtime_args={'-cpi': subgraph.checkpoint, '-maxh': 2})\n",
    "    subgraph.checkpoint = md.output.checkpoint\n",
    "    rmsd = gmx.commandline_operation(\n",
    "        'gmx', ['rms'],\n",
    "        input_files={\n",
    "            '-s': reference_struct,\n",
    "            '-f': md.output.trajectory},\n",
    "        output_files={'-o': 'rmsd.xvg'})\n",
    "    subgraph.min_rms = numpy_min(xvg_parse(rmsd.output.file['-o'], [], keycol=0).output.data).output.value\n",
    "    subgraph.found_native = less_than(lhs=subgraph.min_rms, rhs=0.3).output.data\n",
    "\n",
    "folding_loop = gmx.while_loop(operation=subgraph, condition=subgraph.found_native)()\n",
    "folding_loop.run()\n"
   ]
  }
 ],
 "metadata": {
  "kernelspec": {
   "display_name": "Python 3 (ipykernel)",
   "language": "python",
   "name": "python3"
  },
  "language_info": {
   "codemirror_mode": {
    "name": "ipython",
    "version": 3
   },
   "file_extension": ".py",
   "mimetype": "text/x-python",
   "name": "python",
   "nbconvert_exporter": "python",
   "pygments_lexer": "ipython3",
   "version": "3.7.7"
  }
 },
 "nbformat": 4,
 "nbformat_minor": 1
}