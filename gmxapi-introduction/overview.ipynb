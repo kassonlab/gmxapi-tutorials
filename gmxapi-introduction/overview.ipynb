{
 "cells": [
  {
   "cell_type": "markdown",
   "metadata": {},
   "source": [
    "# gmxapi workshop overview\n",
    "\n",
    "```\n",
    "Author                : M. Eric Irrgang\n",
    "Goal                  : Establish a gmxapi-enabled Python environment.\n",
    "Time                  : 5 minutes (plus download/build time)\n",
    "Prerequisites         : Basic familiarity with Python, shell, and Jupyter\n",
    "Software requirements : GROMACS, gmxapi\n",
    "Tested for            : GROMACS2022\n",
    "```"
   ]
  },
  {
   "cell_type": "markdown",
   "metadata": {},
   "source": [
    "# General information\n",
    "\n",
    " - Prerequisites\n",
    "     - GROMACS2022 with shared library support (standard)\n",
    "     - gmxapi 0.3 Python package\n",
    " - Notebook Version\n",
    "     - 3\n",
    " - References\n",
    "     - [gmxapi manual](https://manual.gromacs.org/current/gmxapi/index.html)\n",
    "     - [GROMACS CLI manual](https://manual.gromacs.org/current/user-guide/cmdline.html#commands-by-name)"
   ]
  },
  {
   "cell_type": "markdown",
   "metadata": {
    "collapsed": true
   },
   "source": [
    "# Workshop content\n",
    "\n",
    "0. gmxapi and GROMACS environment\n",
    "   (the [current](overview.ipynb#gmxapi-Python-package-overview) notebook).\n",
    "1. A [Tutorial](Tutorial.ipynb) in three parts."
   ]
  },
  {
   "cell_type": "markdown",
   "metadata": {},
   "source": [
    "# Notes regarding auto-completion.\n",
    "\n",
    "Jupyter uses the *jedi* package for auto-completion, but version 0.18 is buggy.\n",
    "If tab-completion isn't working right for you, try using one of the *config*\n",
    "lines illustrated below. (Note that the cell in this notebook will not execute\n",
    "normally because of the first line.)"
   ]
  },
  {
   "cell_type": "code",
   "execution_count": null,
   "metadata": {},
   "outputs": [],
   "source": [
    "%%script echo skipping\n",
    "# Some options are available to tweak tab-completion. E.g.\n",
    "%config IPCompleter.greedy=True\n",
    "# If you have a buggy version of jedi (namely 0.18) try disabling it\n",
    "%config Completer.use_jedi = False"
   ]
  },
  {
   "cell_type": "markdown",
   "metadata": {},
   "source": [
    "# GROMACS installation and set up\n",
    "\n",
    "The Python package requires a GROMACS installation with the public API enabled.\n",
    "Through GROMACS 2021 and gmxapi 0.2, `libgmxapi` is available as a shared library, only.\n",
    "thread-MPI is currently recommended if ensemble simulation workflows are expected.\n",
    "See https://manual.gromacs.org/current/gmxapi/userguide/install.html"
   ]
  },
  {
   "cell_type": "markdown",
   "metadata": {},
   "source": [
    "## Environment\n",
    "\n",
    "The following example assumes you can set up a Python3 virtual environment with\n",
    "the shared library API Python API support. You may have to install additional\n",
    "packages before continuing. E.g. `apt-get install python3-venv python3-dev`"
   ]
  },
  {
   "cell_type": "markdown",
   "metadata": {},
   "source": [
    "## Installation example\n",
    "Getting ready to use the gmxapi Python package looks approximately like the following.\n",
    "(Provided for illustration. Copy/paste may not work in all cases.)\n",
    "\n",
    "    # Set up a Python virtual environment in which to install gmxapi.\n",
    "    python3 -m venv $HOME/pygmx\n",
    "    . $HOME/pygmx/bin/activate\n",
    "    pip install --upgrade pip setuptools wheel\n",
    "    MPICC=`which mpicc` MPICXX=`which mpic++` pip install --upgrade mpi4py\n",
    "\n",
    "    # Get GROMACS\n",
    "    wget ftp://ftp.gromacs.org/pub/gromacs/gromacs-2022.tar.gz && \\\n",
    "        tar xvf gromacs-2022.tar.gz\n",
    "\n",
    "    # Build and install thread-MPI GROMACS to your home directory.\n",
    "    # Make sure the compiler toolchain matches that of mpi4py as best we can.\n",
    "    mkdir build && pushd build\n",
    "     cmake ../gromacs-2022 -DCMAKE_INSTALL_PREFIX=$HOME/gromacs-tmpi -DGMX_THREAD_MPI=ON \\\n",
    "         -DCMAKE_C_COMPILER=`which mpicc` -DCMAKE_CXX_COMPILER=`which mpic++`\n",
    "     make -j20 install\n",
    "    popd\n",
    "\n",
    "    # Activate the GROMACS installation.\n",
    "    . $HOME/gromacs-tmpi/bin/GMXRC\n",
    "\n",
    "    # Build and install the latest gmxapi Python package.\n",
    "    pip install --upgrade gmxapi"
   ]
  },
  {
   "cell_type": "markdown",
   "metadata": {},
   "source": [
    "# Python module dependencies\n",
    "Import modules we will use in these notebooks."
   ]
  },
  {
   "cell_type": "code",
   "execution_count": null,
   "metadata": {},
   "outputs": [],
   "source": [
    "# Import Python standard library tools.\n",
    "import os\n",
    "import shutil\n",
    "from pathlib import Path"
   ]
  },
  {
   "cell_type": "code",
   "execution_count": null,
   "metadata": {},
   "outputs": [],
   "source": [
    "# Import gmxapi package\n",
    "import gmxapi as gmx"
   ]
  },
  {
   "cell_type": "markdown",
   "metadata": {},
   "source": [
    "# Self-check"
   ]
  },
  {
   "cell_type": "code",
   "execution_count": null,
   "metadata": {},
   "outputs": [],
   "source": [
    "gmx.version.api_is_at_least(0, 3)"
   ]
  },
  {
   "cell_type": "markdown",
   "metadata": {},
   "source": [
    "# Documentation\n",
    "\n",
    "The GROMACS documentation has pages for the gmxapi Python package,\n",
    "including the full [module reference](https://manual.gromacs.org/current/gmxapi/userguide/pythonreference.html).\n",
    "The module documentation is automatically extracted from the source code,\n",
    "and is the same as what you get with _e.g._ `help()` from the Python interpreter, or (from the shell) `pydoc gmxapi` (or perhaps `python -m pydoc gmxapi`)."
   ]
  },
  {
   "cell_type": "code",
   "execution_count": null,
   "metadata": {},
   "outputs": [],
   "source": [
    "# Documentation at the terminal.\n",
    "!python -m pydoc gmxapi | head"
   ]
  },
  {
   "cell_type": "code",
   "execution_count": null,
   "metadata": {},
   "outputs": [],
   "source": [
    "# Inline Python documentation extracted from the source code.\n",
    "help(gmx)"
   ]
  },
  {
   "cell_type": "markdown",
   "metadata": {},
   "source": [
    "## See also\n",
    "\n",
    "https://manual.gromacs.org/current/gmxapi/userguide/usage.html\n",
    "provides a high level treatment of the material in this tutorial."
   ]
  },
  {
   "cell_type": "markdown",
   "metadata": {},
   "source": [
    "# Filesystem tips\n",
    "If needed, you can manipulate the filesystem from the notebook with embedded shell commands or with native Python commands, or you can open a Terminal emulator from the New drop-down menu at the main Jupyter entry page."
   ]
  },
  {
   "cell_type": "code",
   "execution_count": null,
   "metadata": {},
   "outputs": [],
   "source": [
    "!ls"
   ]
  },
  {
   "cell_type": "code",
   "execution_count": null,
   "metadata": {},
   "outputs": [],
   "source": [
    "os.listdir()"
   ]
  }
 ],
 "metadata": {
  "kernelspec": {
   "display_name": "Python 3 (ipykernel)",
   "language": "python",
   "name": "python3"
  },
  "language_info": {
   "codemirror_mode": {
    "name": "ipython",
    "version": 3
   },
   "file_extension": ".py",
   "mimetype": "text/x-python",
   "name": "python",
   "nbconvert_exporter": "python",
   "pygments_lexer": "ipython3",
   "version": "3.7.7"
  }
 },
 "nbformat": 4,
 "nbformat_minor": 1
}
