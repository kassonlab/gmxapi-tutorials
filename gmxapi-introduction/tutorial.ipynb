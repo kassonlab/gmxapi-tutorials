{
 "cells": [
  {
   "cell_type": "code",
   "execution_count": null,
   "metadata": {},
   "outputs": [],
   "source": [
    "import sys\n",
    "# This is the path to where the sample plugin is built in the docker image.\n",
    "# Adjust as necessary.\n",
    "sys.path.append('/home/jovyan/plugin-build/src/pythonmodule')"
   ]
  },
  {
   "cell_type": "code",
   "execution_count": null,
   "metadata": {},
   "outputs": [],
   "source": [
    "import gmx\n",
    "import myplugin"
   ]
  },
  {
   "cell_type": "code",
   "execution_count": null,
   "metadata": {},
   "outputs": [],
   "source": [
    "help(gmx)"
   ]
  },
  {
   "cell_type": "code",
   "execution_count": null,
   "metadata": {},
   "outputs": [],
   "source": [
    "help(myplugin)"
   ]
  },
  {
   "cell_type": "code",
   "execution_count": null,
   "metadata": {},
   "outputs": [],
   "source": [
    "from gmx.data import tpr_filename\n",
    "system = gmx.System._from_file(tpr_filename)\n",
    "potential = myplugin.HarmonicRestraint()\n",
    "potential.set_params(1, 4, 2.0, 100.0)\n",
    "# potential.set_params(1, 4, 0, 0)\n",
    "\n",
    "system.add_potential(potential)\n",
    "with gmx.context.DefaultContext(system.workflow) as session:\n",
    "    session.run()"
   ]
  },
  {
   "cell_type": "code",
   "execution_count": null,
   "metadata": {},
   "outputs": [],
   "source": [
    "md = gmx.workflow.from_tpr([tpr_filename, tpr_filename])\n",
    "print(md.workspec)"
   ]
  },
  {
   "cell_type": "code",
   "execution_count": null,
   "metadata": {},
   "outputs": [],
   "source": [
    "print(md.serialize())"
   ]
  },
  {
   "cell_type": "code",
   "execution_count": null,
   "metadata": {},
   "outputs": [],
   "source": [
    "potential = gmx.workflow.WorkElement(namespace=\"myplugin\",\n",
    "                                     operation=\"create_restraint\",\n",
    "                                     params=[1, 4, 2.0, 10000.0])\n",
    "potential.name = \"harmonic_restraint\"\n",
    "md.add_dependency(potential)"
   ]
  },
  {
   "cell_type": "code",
   "execution_count": null,
   "metadata": {},
   "outputs": [],
   "source": [
    "print(md.serialize())"
   ]
  },
  {
   "cell_type": "code",
   "execution_count": null,
   "metadata": {},
   "outputs": [],
   "source": [
    "print(md.workspec)"
   ]
  },
  {
   "cell_type": "code",
   "execution_count": null,
   "metadata": {},
   "outputs": [],
   "source": [
    "context = gmx.context.ParallelArrayContext(md)\n",
    "with context as session:\n",
    "    if context.rank == 0:\n",
    "        print(context.work)\n",
    "    session.run()"
   ]
  },
  {
   "cell_type": "code",
   "execution_count": null,
   "metadata": {},
   "outputs": [],
   "source": [
    "md = gmx.workflow.from_tpr(tpr_filename)\n",
    "md.add_dependency(potential)\n"
   ]
  },
  {
   "cell_type": "code",
   "execution_count": null,
   "metadata": {},
   "outputs": [],
   "source": [
    "potential.workspec = None\n",
    "md.add_dependency(potential)"
   ]
  },
  {
   "cell_type": "code",
   "execution_count": null,
   "metadata": {},
   "outputs": [],
   "source": [
    "context = gmx.context.ParallelArrayContext(md)\n",
    "with context as session:\n",
    "    if context.rank == 0:\n",
    "        print(context.work)\n",
    "    status = session.run()\n",
    "print(status)"
   ]
  },
  {
   "cell_type": "code",
   "execution_count": null,
   "metadata": {},
   "outputs": [],
   "source": []
  }
 ],
 "metadata": {
  "kernelspec": {
   "display_name": "Python 3",
   "language": "python",
   "name": "python3"
  },
  "language_info": {
   "codemirror_mode": {
    "name": "ipython",
    "version": 3
   },
   "file_extension": ".py",
   "mimetype": "text/x-python",
   "name": "python",
   "nbconvert_exporter": "python",
   "pygments_lexer": "ipython3",
   "version": "3.7.7"
  }
 },
 "nbformat": 4,
 "nbformat_minor": 2
}