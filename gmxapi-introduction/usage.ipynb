{
 "cells": [
  {
   "cell_type": "markdown",
   "metadata": {},
   "source": [
    "# gmxapi Python package overview\n",
    "\n",
    "```\n",
    "Author                : M. Eric Irrgang\n",
    "Goal                  : Understand the gmxapi UI concepts\n",
    "Time                  : 15 minutes\n",
    "Prerequisites         : Familiarity with GROMACS MD simulation set up.\n",
    "Software requirements : GROMACS, gmxapi\n",
    "Tested for            : GROMACS2021\n",
    "```"
   ]
  },
  {
   "cell_type": "markdown",
   "metadata": {
    "pycharm": {
     "name": "#%% md\n"
    }
   },
   "source": [
    "# General information\n",
    "\n",
    "This notebook illustrates the Python interface for gmxapi.\n",
    "Additional design aspects are illustrated where possible.\n",
    "\n",
    " - Prerequisites\n",
    "     - GROMACS2021 with shared library support (standard)\n",
    "     - gmxapi 0.2 Python package\n",
    " - Notebook Version\n",
    "     - 2\n",
    " - References\n",
    "     - [gmxapi manual](https://manual.gromacs.org/current/gmxapi/index.html)\n",
    "     - [GROMACS CLI manual](https://manual.gromacs.org/current/user-guide/cmdline.html#commands-by-name)\n"
   ]
  },
  {
   "cell_type": "markdown",
   "metadata": {},
   "source": [
    "# Python module dependencies\n",
    "Import modules we will use in this notebook."
   ]
  },
  {
   "cell_type": "code",
   "execution_count": null,
   "metadata": {},
   "outputs": [],
   "source": [
    "# Import Python standard library tools.\n",
    "import os\n",
    "import shutil\n",
    "from pathlib import Path"
   ]
  },
  {
   "cell_type": "code",
   "execution_count": null,
   "metadata": {},
   "outputs": [],
   "source": [
    "# Import gmxapi package\n",
    "import gmxapi as gmx"
   ]
  },
  {
   "cell_type": "markdown",
   "metadata": {
    "pycharm": {
     "name": "#%% md\n"
    }
   },
   "source": [
    "# Self-check"
   ]
  },
  {
   "cell_type": "code",
   "execution_count": null,
   "metadata": {
    "pycharm": {
     "name": "#%%\n"
    }
   },
   "outputs": [],
   "source": [
    "gmx.version.api_is_at_least(0,2)"
   ]
  },
  {
   "cell_type": "code",
   "execution_count": null,
   "metadata": {},
   "outputs": [],
   "source": [
    "# Make sure the *gmx* command line interface is accessible.\n",
    "cli = Path(shutil.which('gmx'))\n",
    "\n",
    "assert cli.exists()\n",
    "cli"
   ]
  },
  {
   "cell_type": "code",
   "execution_count": null,
   "outputs": [],
   "source": [
    "# Work around resource management limitations\n",
    "from gmxapi.simulation.mdrun import ResourceManager as _ResourceManager\n",
    "_ResourceManager.mdrun_kwargs = {'threads': 1}"
   ],
   "metadata": {
    "collapsed": false,
    "pycharm": {
     "name": "#%%\n"
    }
   }
  },
  {
   "cell_type": "markdown",
   "metadata": {},
   "source": [
    "# Check working directories"
   ]
  },
  {
   "cell_type": "code",
   "execution_count": null,
   "metadata": {},
   "outputs": [],
   "source": [
    "# What is our current working directory?\n",
    "os.getcwd()"
   ]
  },
  {
   "cell_type": "code",
   "execution_count": null,
   "metadata": {},
   "outputs": [],
   "source": [
    "# Identify the working directory that we will try to use.\n",
    "nb_root = Path('usage').absolute()\n",
    "# Confirm the availability of inputs.\n",
    "assert (nb_root/'em.tpr').exists()"
   ]
  },
  {
   "cell_type": "code",
   "execution_count": null,
   "metadata": {
    "scrolled": true
   },
   "outputs": [],
   "source": [
    "os.listdir(nb_root)"
   ]
  },
  {
   "cell_type": "markdown",
   "metadata": {
    "pycharm": {
     "name": "#%% md\n"
    }
   },
   "source": [
    "# Manipulate simulation input."
   ]
  },
  {
   "cell_type": "markdown",
   "metadata": {},
   "source": [
    "## Acquire a handle to a TPR run input file."
   ]
  },
  {
   "cell_type": "code",
   "execution_count": null,
   "metadata": {},
   "outputs": [],
   "source": [
    "# Consider the *read_tpr* command.\n",
    "gmx.read_tpr()"
   ]
  },
  {
   "cell_type": "code",
   "execution_count": null,
   "metadata": {},
   "outputs": [],
   "source": [
    "help(gmx.read_tpr)"
   ]
  },
  {
   "cell_type": "markdown",
   "metadata": {
    "pycharm": {
     "name": "#%% md\n"
    }
   },
   "source": [
    "We will borrow a simulation input file from another tutorial.\n",
    "*em.tpr* is generated with the [pipeline-basics.ipynb](pipeline-basics.ipynb) notebook."
   ]
  },
  {
   "cell_type": "markdown",
   "metadata": {},
   "source": [
    "## Warning\n",
    "The GROMACS library emits uncatchable fatal errors that will kill the Jupyter notebook kernel.\n",
    "Please file issues at https://gitlab.com/gromacs/gromacs/-/issues when you encounter such problems.\n",
    "\n",
    "Regarding the following case, the bug in `read_tpr` has been noted."
   ]
  },
  {
   "cell_type": "code",
   "execution_count": null,
   "metadata": {},
   "outputs": [],
   "source": [
    "# Check for file existence before providing to read_tpr.\n",
    "assert os.path.exists('usage/em.tpr')\n",
    "em = gmx.read_tpr('usage/em.tpr')"
   ]
  },
  {
   "cell_type": "markdown",
   "metadata": {},
   "source": [
    "## Explore the object model"
   ]
  },
  {
   "cell_type": "code",
   "execution_count": null,
   "metadata": {},
   "outputs": [],
   "source": [
    "em"
   ]
  },
  {
   "cell_type": "code",
   "execution_count": null,
   "metadata": {},
   "outputs": [],
   "source": [
    "# Inspect *em* and its member hierarchy with tab completion, dir(), and help()\n",
    "# Take a look at em.node_uid\n",
    "em."
   ]
  },
  {
   "cell_type": "code",
   "execution_count": null,
   "metadata": {},
   "outputs": [],
   "source": [
    "help(em.run)"
   ]
  },
  {
   "cell_type": "code",
   "execution_count": null,
   "metadata": {},
   "outputs": [],
   "source": [
    "# Appologies: This isn't as navigable as we would like\n",
    "help(em.output)"
   ]
  },
  {
   "cell_type": "code",
   "execution_count": null,
   "metadata": {},
   "outputs": [],
   "source": [
    "# Take a look at em.output.parameters\n",
    "em.output."
   ]
  },
  {
   "cell_type": "code",
   "execution_count": null,
   "metadata": {},
   "outputs": [],
   "source": [
    "help(em.output.parameters)"
   ]
  },
  {
   "cell_type": "code",
   "execution_count": null,
   "metadata": {},
   "outputs": [],
   "source": [
    "em.output.parameters.description"
   ]
  },
  {
   "cell_type": "code",
   "execution_count": null,
   "metadata": {},
   "outputs": [],
   "source": [
    "help(em.output.parameters.resource_manager)"
   ]
  },
  {
   "cell_type": "code",
   "execution_count": null,
   "metadata": {},
   "outputs": [],
   "source": [
    "em.output.parameters.result()"
   ]
  },
  {
   "cell_type": "code",
   "execution_count": null,
   "metadata": {},
   "outputs": [],
   "source": [
    "# Poke around at the hidden members by starting to name an attribute with `_` and then tab-completing\n",
    "em.output._"
   ]
  },
  {
   "cell_type": "code",
   "execution_count": null,
   "metadata": {},
   "outputs": [],
   "source": [
    "em.output._simulation_input.result()"
   ]
  },
  {
   "cell_type": "markdown",
   "metadata": {},
   "source": [
    "## Use the modify_input command."
   ]
  },
  {
   "cell_type": "code",
   "execution_count": null,
   "metadata": {},
   "outputs": [],
   "source": [
    "modified = gmx.modify_input(em, parameters={'ld-seed': 0})"
   ]
  },
  {
   "cell_type": "code",
   "execution_count": null,
   "metadata": {},
   "outputs": [],
   "source": [
    "# What is this thing?\n",
    "modified"
   ]
  },
  {
   "cell_type": "markdown",
   "metadata": {},
   "source": [
    "The modify_input command does not provide much directly to the user in gmxapi 0.2.\n",
    "It is mostly an annotation, producing a reference to a conceptual point in the data flow."
   ]
  },
  {
   "cell_type": "code",
   "execution_count": null,
   "metadata": {},
   "outputs": [],
   "source": [
    "modified.output.parameters.result()"
   ]
  },
  {
   "cell_type": "code",
   "execution_count": null,
   "metadata": {},
   "outputs": [],
   "source": [
    "modified.output._simulation_input.result()"
   ]
  },
  {
   "cell_type": "markdown",
   "metadata": {},
   "source": [
    "The *gmxapi.simulation* modules override several of the more basic gmxapi components."
   ]
  },
  {
   "cell_type": "code",
   "execution_count": null,
   "metadata": {},
   "outputs": [],
   "source": [
    "modified.output._simulation_input.resource_manager"
   ]
  },
  {
   "cell_type": "markdown",
   "metadata": {},
   "source": [
    "## Use the modified simulation input."
   ]
  },
  {
   "cell_type": "code",
   "execution_count": null,
   "metadata": {},
   "outputs": [],
   "source": [
    "sim = gmx.mdrun(modified)"
   ]
  },
  {
   "cell_type": "code",
   "execution_count": null,
   "metadata": {},
   "outputs": [],
   "source": [
    "sim"
   ]
  },
  {
   "cell_type": "code",
   "execution_count": null,
   "metadata": {},
   "outputs": [],
   "source": [
    "sim.output.trajectory.result()"
   ]
  },
  {
   "cell_type": "markdown",
   "metadata": {},
   "source": [
    "# Unstable interfaces: lower level API bindings."
   ]
  },
  {
   "cell_type": "code",
   "execution_count": null,
   "metadata": {},
   "outputs": [],
   "source": [
    "from gmxapi.simulation import fileio\n",
    "help(fileio)"
   ]
  },
  {
   "cell_type": "code",
   "execution_count": null,
   "metadata": {},
   "outputs": [],
   "source": [
    "em = fileio.read_tpr('usage/em.tpr')\n",
    "em"
   ]
  },
  {
   "cell_type": "code",
   "execution_count": null,
   "metadata": {},
   "outputs": [],
   "source": [
    "em.parameters.extract()"
   ]
  },
  {
   "cell_type": "code",
   "execution_count": null,
   "metadata": {},
   "outputs": [],
   "source": [
    "em.parameters.set('ld-seed', 0)"
   ]
  },
  {
   "cell_type": "code",
   "execution_count": null,
   "metadata": {},
   "outputs": [],
   "source": [
    "em.parameters.extract()"
   ]
  },
  {
   "cell_type": "code",
   "execution_count": null,
   "metadata": {},
   "outputs": [],
   "source": [
    "fileio.write_tpr_file('usage/edited.tpr', input=em)"
   ]
  },
  {
   "cell_type": "code",
   "execution_count": null,
   "metadata": {},
   "outputs": [],
   "source": [
    "gmx.read_tpr('usage/edited.tpr').output.parameters.result()"
   ]
  },
  {
   "cell_type": "markdown",
   "metadata": {},
   "source": [
    "# Exercise: Writing simple gmxapi commands\n",
    "Use the `function_wrapper` decorator to copy a file from one directory to another."
   ]
  },
  {
   "cell_type": "code",
   "execution_count": null,
   "metadata": {},
   "outputs": [],
   "source": [
    "help(gmx.function_wrapper)"
   ]
  },
  {
   "cell_type": "markdown",
   "metadata": {},
   "source": [
    "## Solution"
   ]
  },
  {
   "cell_type": "code",
   "execution_count": null,
   "metadata": {},
   "outputs": [],
   "source": [
    "@gmx.function_wrapper(output={'path': str})\n",
    "def cp(src: str, dst: str, output):\n",
    "    infile = os.path.abspath(src)\n",
    "    if not os.path.exists(infile):\n",
    "        raise RuntimeError('Input file does not exist.')\n",
    "    outfile = os.path.abspath(dst)\n",
    "    if os.path.exists(outfile):\n",
    "        if os.path.isfile(outfile):\n",
    "            raise RuntimeError('Output file already exists.')\n",
    "        else:\n",
    "            if not os.path.isdir(outfile):\n",
    "                raise RuntimeError('dst must be an existing directory or non-existing filename.')\n",
    "            outfile = os.path.join(outfile, os.path.basename(infile))\n",
    "    shutil.copy(infile, outfile)\n",
    "    output.path = outfile"
   ]
  },
  {
   "cell_type": "code",
   "execution_count": null,
   "metadata": {},
   "outputs": [],
   "source": [
    "cmd = cp(src='usage/edited.tpr', dst='/tmp')"
   ]
  },
  {
   "cell_type": "code",
   "execution_count": null,
   "metadata": {},
   "outputs": [],
   "source": [
    "# Check out the dynamically generated output data proxy\n",
    "cmd.output."
   ]
  },
  {
   "cell_type": "code",
   "execution_count": null,
   "metadata": {},
   "outputs": [],
   "source": [
    "assert os.path.exists(cmd.output.path.result())"
   ]
  },
  {
   "cell_type": "code",
   "execution_count": null,
   "metadata": {},
   "outputs": [],
   "source": []
  }
 ],
 "metadata": {
  "kernelspec": {
   "display_name": "Python 3",
   "language": "python",
   "name": "python3"
  },
  "language_info": {
   "codemirror_mode": {
    "name": "ipython",
    "version": 3
   },
   "file_extension": ".py",
   "mimetype": "text/x-python",
   "name": "python",
   "nbconvert_exporter": "python",
   "pygments_lexer": "ipython3",
   "version": "3.8.6"
  }
 },
 "nbformat": 4,
 "nbformat_minor": 2
}