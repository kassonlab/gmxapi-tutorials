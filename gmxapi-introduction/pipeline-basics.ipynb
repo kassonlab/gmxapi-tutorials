{
 "cells": [
  {
   "cell_type": "markdown",
   "metadata": {},
   "source": [
    "# gmxapi flow\n",
    "\n",
    "```\n",
    "Author                : M. Eric Irrgang\n",
    "Goal                  : Understand the gmxapi scripting interface\n",
    "Time                  : 25 minutes\n",
    "Prerequisites         : Familiarity with GROMACS command line tools.\n",
    "Software requirements : GROMACS, gmxapi\n",
    "Tested for            : GROMACS2021\n",
    "```"
   ]
  },
  {
   "cell_type": "markdown",
   "metadata": {
    "pycharm": {
     "name": "#%% md\n"
    }
   },
   "source": [
    "# General information\n",
    "\n",
    "This notebook illustrates the Python interface for gmxapi with current and planned functionality and syntax.\n",
    "Additional design aspects are illustrated where possible.\n",
    "\n",
    " - Prerequisites\n",
    "     - GROMACS2021 with shared library support (standard)\n",
    "     - gmxapi 0.2 Python package\n",
    " - Version\n",
    "     - 2\n",
    " - References\n",
    "     - [gmxapi manual](https://manual.gromacs.org/current/gmxapi/index.html)\n",
    "     - [GROMACS CLI manual](https://manual.gromacs.org/current/user-guide/cmdline.html#commands-by-name)"
   ]
  },
  {
   "cell_type": "markdown",
   "metadata": {},
   "source": [
    "# Python module dependencies\n",
    "Import modules we will use in this notebook."
   ]
  },
  {
   "cell_type": "code",
   "execution_count": null,
   "metadata": {},
   "outputs": [],
   "source": [
    "# Import Python standard library tools.\n",
    "import os\n",
    "import shutil\n",
    "import subprocess\n",
    "from pathlib import Path"
   ]
  },
  {
   "cell_type": "code",
   "execution_count": null,
   "metadata": {},
   "outputs": [],
   "source": [
    "# Import gmxapi package\n",
    "import gmxapi as gmx"
   ]
  },
  {
   "cell_type": "markdown",
   "metadata": {
    "pycharm": {
     "name": "#%% md\n"
    }
   },
   "source": [
    "# Self-check"
   ]
  },
  {
   "cell_type": "code",
   "execution_count": null,
   "metadata": {
    "pycharm": {
     "name": "#%%\n"
    }
   },
   "outputs": [],
   "source": [
    "gmx.version.api_is_at_least(0,2)"
   ]
  },
  {
   "cell_type": "code",
   "execution_count": null,
   "metadata": {},
   "outputs": [],
   "source": [
    "# Get the path to the *gmx* command line interface tool.\n",
    "cli = Path(shutil.which('gmx'))\n",
    "\n",
    "assert cli.exists()\n",
    "cli"
   ]
  },
  {
   "cell_type": "code",
   "execution_count": null,
   "outputs": [],
   "source": [
    "# Work around resource management limitations\n",
    "from gmxapi.simulation.mdrun import ResourceManager as _ResourceManager\n",
    "_ResourceManager.mdrun_kwargs = {'threads': 1}"
   ],
   "metadata": {
    "collapsed": false,
    "pycharm": {
     "name": "#%%\n"
    }
   }
  },
  {
   "cell_type": "markdown",
   "metadata": {},
   "source": [
    "# Prepare working directories\n",
    "\n",
    "Note that GROMACS does not provide an API for its filesystem interactions, so we need to do our own file management."
   ]
  },
  {
   "cell_type": "code",
   "execution_count": null,
   "metadata": {},
   "outputs": [],
   "source": [
    "# Confirm the availability of inputs.\n",
    "input_dir = Path('inputs').absolute()\n",
    "assert input_dir.exists()"
   ]
  },
  {
   "cell_type": "code",
   "execution_count": null,
   "metadata": {},
   "outputs": [],
   "source": [
    "nb_root = Path('pipeline-basics').absolute()\n",
    "if not nb_root.exists():\n",
    "    nb_root.mkdir()"
   ]
  },
  {
   "cell_type": "code",
   "execution_count": null,
   "metadata": {},
   "outputs": [],
   "source": [
    "# Confirm the availability of inputs.\n",
    "input_dir = Path('inputs').absolute()\n",
    "assert input_dir.exists()"
   ]
  },
  {
   "cell_type": "code",
   "execution_count": null,
   "metadata": {},
   "outputs": [],
   "source": [
    "# Define a function to clean the output directories we are going to use.\n",
    "def clean_dir(dirname):\n",
    "    if os.path.isabs(dirname):\n",
    "        d = Path(dirname)\n",
    "    else:\n",
    "        d = nb_root/dirname\n",
    "    try:\n",
    "        shutil.rmtree(d)\n",
    "    except FileNotFoundError:\n",
    "        # Okay. Nothing to remove.\n",
    "        print(f'{d} does not exist. No problem.')\n",
    "    except OSError as e:\n",
    "        print('Trouble preparing working directory:')\n",
    "        print(e)\n",
    "    d.mkdir()\n",
    "    print(f'Created clean {d}')\n",
    "    return d"
   ]
  },
  {
   "cell_type": "markdown",
   "metadata": {
    "pycharm": {
     "name": "#%% md\n"
    }
   },
   "source": [
    "# Exercise 1: Construct molecular model.\n",
    "\n",
    "We will borrow from the `alanine-msm-tutorial` by Cathrine Bergh.\n",
    "Following the example of that tutorial, we will parameterize a `amber99sb-ildn`\n",
    "force field with `tip3p` water and Hydrogen virtual sites."
   ]
  },
  {
   "cell_type": "code",
   "execution_count": null,
   "metadata": {},
   "outputs": [],
   "source": [
    "# Choose a working directory that we will try to use.\n",
    "wd = clean_dir('ex1')"
   ]
  },
  {
   "cell_type": "code",
   "execution_count": null,
   "metadata": {},
   "outputs": [],
   "source": [
    "# Check\n",
    "assert wd.exists()\n",
    "wd"
   ]
  },
  {
   "cell_type": "code",
   "execution_count": null,
   "metadata": {},
   "outputs": [],
   "source": [
    "shutil.copy('inputs/start0.pdb', wd)"
   ]
  },
  {
   "cell_type": "code",
   "execution_count": null,
   "metadata": {},
   "outputs": [],
   "source": [
    "os.listdir(wd)"
   ]
  },
  {
   "cell_type": "markdown",
   "metadata": {},
   "source": [
    "## Use the command line interface to bootstrap the molecular modeling inputs."
   ]
  },
  {
   "cell_type": "code",
   "execution_count": null,
   "metadata": {},
   "outputs": [],
   "source": [
    "!cd pipeline-basics/ex1 && gmx pdb2gmx -ff amber99sb-ildn -water tip3p -vsite hydro -f start0.pdb -p topol.top -i posre.itp -o conf.gro"
   ]
  },
  {
   "cell_type": "code",
   "execution_count": null,
   "metadata": {},
   "outputs": [],
   "source": [
    "os.listdir(wd)"
   ]
  },
  {
   "cell_type": "markdown",
   "metadata": {},
   "source": [
    "## Use the Python subprocess module to call `editconf`\n",
    "Prepare the box before solvation. Can we do this all in Python?"
   ]
  },
  {
   "cell_type": "code",
   "execution_count": null,
   "metadata": {},
   "outputs": [],
   "source": [
    "struct_in = wd/'conf.gro'\n",
    "struct_out = wd/'box.gro'\n",
    "assert struct_in.exists()\n",
    "assert not struct_out.exists()"
   ]
  },
  {
   "cell_type": "code",
   "execution_count": null,
   "metadata": {},
   "outputs": [],
   "source": [
    "argv = ['gmx', 'editconf']\n",
    "argv.extend(['-bt', 'dodeca'])\n",
    "argv.extend(['-d', '1.0'])\n",
    "argv.extend(['-f', struct_in])\n",
    "argv.extend(['-o', struct_out])"
   ]
  },
  {
   "cell_type": "code",
   "execution_count": null,
   "metadata": {},
   "outputs": [],
   "source": [
    "editconf = subprocess.run(argv, check=True)"
   ]
  },
  {
   "cell_type": "code",
   "execution_count": null,
   "metadata": {},
   "outputs": [],
   "source": [
    "editconf"
   ]
  },
  {
   "cell_type": "code",
   "execution_count": null,
   "metadata": {},
   "outputs": [],
   "source": [
    "os.listdir(wd)"
   ]
  },
  {
   "cell_type": "markdown",
   "metadata": {},
   "source": [
    "But... where did these files come from, again? Can I get stronger references to the data flow?"
   ]
  },
  {
   "cell_type": "markdown",
   "metadata": {},
   "source": [
    "# Exercise 2: Reimplement with a more formal pipeline."
   ]
  },
  {
   "cell_type": "code",
   "execution_count": null,
   "metadata": {},
   "outputs": [],
   "source": [
    "wd = str(clean_dir('ex2'))\n",
    "\n",
    "# Check\n",
    "assert os.path.exists(wd)\n",
    "wd"
   ]
  },
  {
   "cell_type": "code",
   "execution_count": null,
   "metadata": {},
   "outputs": [],
   "source": [
    "os.listdir(wd)"
   ]
  },
  {
   "cell_type": "code",
   "execution_count": null,
   "metadata": {},
   "outputs": [],
   "source": [
    "# Command line positional arguments have no meaning that Python can intuit.\n",
    "args = ['pdb2gmx']\n",
    "args.extend(['-ff', 'amber99sb-ildn'])\n",
    "args.extend(['-water', 'tip3p'])\n",
    "args.extend(['-vsite', 'hydro'])\n",
    "args"
   ]
  },
  {
   "cell_type": "code",
   "execution_count": null,
   "metadata": {},
   "outputs": [],
   "source": [
    "cmd_dir = str(clean_dir('ex2/make_top'))"
   ]
  },
  {
   "cell_type": "code",
   "execution_count": null,
   "metadata": {},
   "outputs": [],
   "source": [
    "# We need a special wrapper to tell an API what input and output arguments mean.\n",
    "make_top = gmx.commandline_operation(\n",
    "    cli,\n",
    "    args,\n",
    "    input_files={\n",
    "        '-f': os.path.join(input_dir, 'start0.pdb')\n",
    "    },\n",
    "    output_files={\n",
    "        '-p': os.path.join(cmd_dir, 'topol.top'),\n",
    "        '-i': os.path.join(cmd_dir, 'posre.itp'),\n",
    "        '-o': os.path.join(cmd_dir, 'conf.gro')\n",
    "    }\n",
    ")"
   ]
  },
  {
   "cell_type": "code",
   "execution_count": null,
   "metadata": {},
   "outputs": [],
   "source": [
    "# The command has not run yet.\n",
    "os.listdir(cmd_dir)"
   ]
  },
  {
   "cell_type": "code",
   "execution_count": null,
   "metadata": {},
   "outputs": [],
   "source": [
    "# Demand to know the returncode output value.\n",
    "if make_top.output.returncode.result() != 0:\n",
    "    print(make_top.output.erroroutput.result())"
   ]
  },
  {
   "cell_type": "code",
   "execution_count": null,
   "metadata": {},
   "outputs": [],
   "source": [
    "# Now the command has run.\n",
    "os.listdir(cmd_dir)"
   ]
  },
  {
   "cell_type": "markdown",
   "metadata": {},
   "source": [
    "## Chain commands\n",
    "Use Python references to connect the outputs of one command to the inputs of another."
   ]
  },
  {
   "cell_type": "code",
   "execution_count": null,
   "metadata": {},
   "outputs": [],
   "source": [
    "cmd_dir = str(clean_dir('ex2/edit'))"
   ]
  },
  {
   "cell_type": "code",
   "execution_count": null,
   "metadata": {},
   "outputs": [],
   "source": [
    "edit = gmx.commandline_operation(\n",
    "    cli,\n",
    "    ('editconf',\n",
    "     '-bt', 'dodeca',\n",
    "     '-d', '1.0'),\n",
    "    input_files={\n",
    "     '-f': make_top.output.file['-o']\n",
    "    },\n",
    "    output_files={\n",
    "     '-o': os.path.join(cmd_dir, 'box.gro')\n",
    "    }\n",
    ")"
   ]
  },
  {
   "cell_type": "markdown",
   "metadata": {},
   "source": [
    "### optional\n",
    "if edit.output.returncode.result() != 0:\n",
    "    print(edit.output.erroroutput.result())\n",
    "os.listdir(cmd_dir)"
   ]
  },
  {
   "cell_type": "markdown",
   "metadata": {},
   "source": [
    "## Solvate.\n",
    "\n",
    "**Note:** GROMACS automatically looks for the `-cs` argument in `$GMXLIB`\n",
    "\n",
    "**Warning:** There is no way to independently specify topology input and output files.\n",
    "Such a caveat is beyond the scope of what gmxapi can solve.\n",
    "I would be interested to hear how workflow systems are treating such tools, if at all, so that we might consider whether/how to evolve GROMACS tool interfaces."
   ]
  },
  {
   "cell_type": "code",
   "execution_count": null,
   "metadata": {},
   "outputs": [],
   "source": [
    "# Borrow the utility from the previous tutorial.\n",
    "@gmx.function_wrapper(output={'path': str})\n",
    "def cp(src: str, dst: str, output):\n",
    "    infile = os.path.abspath(src)\n",
    "    if not os.path.exists(infile):\n",
    "        raise RuntimeError('Input file does not exist.')\n",
    "    outfile = os.path.abspath(dst)\n",
    "    if os.path.exists(outfile):\n",
    "        if os.path.isfile(outfile):\n",
    "            raise RuntimeError('Output file already exists.')\n",
    "        else:\n",
    "            if not os.path.isdir(outfile):\n",
    "                raise RuntimeError('dst must be an existing directory or non-existing filename.')\n",
    "            outfile = os.path.join(outfile, os.path.basename(infile))\n",
    "    shutil.copy(infile, outfile)\n",
    "    output.path = outfile"
   ]
  },
  {
   "cell_type": "code",
   "execution_count": null,
   "metadata": {},
   "outputs": [],
   "source": [
    "cmd_dir = str(clean_dir('ex2/solvate'))"
   ]
  },
  {
   "cell_type": "code",
   "execution_count": null,
   "metadata": {},
   "outputs": [],
   "source": [
    "topol = cp(src=make_top.output.file['-p'], dst=cmd_dir).output.path"
   ]
  },
  {
   "cell_type": "code",
   "execution_count": null,
   "metadata": {},
   "outputs": [],
   "source": [
    "solvate = gmx.commandline_operation(\n",
    "    cli,\n",
    "    ('solvate',\n",
    "     '-cs', 'spc216.gro'),\n",
    "    input_files={\n",
    "     '-cp': edit.output.file['-o']\n",
    "    },\n",
    "    output_files={\n",
    "     '-o': os.path.join(cmd_dir, 'solvated.gro'),\n",
    "     '-p': topol.result()\n",
    "    }\n",
    ")"
   ]
  },
  {
   "cell_type": "code",
   "execution_count": null,
   "metadata": {},
   "outputs": [],
   "source": [
    "solvated = solvate.output.file['-o']"
   ]
  },
  {
   "cell_type": "code",
   "execution_count": null,
   "metadata": {},
   "outputs": [],
   "source": [
    "if solvate.output.returncode.result() != 0:\n",
    "    print(solvate.output.erroroutput.result())\n",
    "os.listdir(cmd_dir)"
   ]
  },
  {
   "cell_type": "code",
   "execution_count": null,
   "metadata": {},
   "outputs": [],
   "source": [
    "# Replace our *topol* local reference.\n",
    "topol = solvate.output.file['-p']"
   ]
  },
  {
   "cell_type": "markdown",
   "metadata": {},
   "source": [
    "# Exercise 3: Prepare simulation input."
   ]
  },
  {
   "cell_type": "code",
   "execution_count": null,
   "metadata": {},
   "outputs": [],
   "source": [
    "wd = str(clean_dir(nb_root/'ex3'))\n",
    "\n",
    "# Check\n",
    "assert os.path.exists(wd)\n",
    "wd"
   ]
  },
  {
   "cell_type": "markdown",
   "metadata": {},
   "source": [
    "## Finish adjusting topology to resolve force field compatibility.\n",
    "`pdb2gmx` will not have applied some necessary constraints at termini.\n",
    "\n",
    "`alanine-msm-tutorial` suggests additions to make after the first `#include` line.\n",
    "\n",
    "We will read the `topol.top` file produced by `solvate` and rewrite it as `edited_topol.top`."
   ]
  },
  {
   "cell_type": "code",
   "execution_count": null,
   "metadata": {},
   "outputs": [],
   "source": [
    "# Visually inspect the file.\n",
    "with open(topol.result(), 'r') as fh:\n",
    "    for line in fh:\n",
    "        print(line.rstrip())"
   ]
  },
  {
   "cell_type": "code",
   "execution_count": null,
   "metadata": {},
   "outputs": [],
   "source": [
    "# Note the line at which to split.\n",
    "sentry = '#include \"amber99sb-ildn.ff/forcefield.itp\"'\n",
    "\n",
    "# Define the text to insert, per alanine-msm-tutorial.\n",
    "append = \"\"\"\n",
    "[ constrainttypes ]\n",
    "; constraints for capped termini\n",
    "MCH3 C 2 0.166426\n",
    "MCH3 C 2 0.166426\n",
    "N MCH3 2 0.166426\n",
    "N MCH3 2 0.166426\n",
    "\"\"\""
   ]
  },
  {
   "cell_type": "code",
   "execution_count": null,
   "metadata": {},
   "outputs": [],
   "source": [
    "cmd_dir = str(clean_dir(os.path.join(wd, 'em_pp')))"
   ]
  },
  {
   "cell_type": "code",
   "execution_count": null,
   "metadata": {},
   "outputs": [],
   "source": [
    "# Re-write the file, inserting the additional lines.\n",
    "infile = topol.result()\n",
    "topol = os.path.join(cmd_dir, 'edited_topol.top')\n",
    "with open(topol, 'w') as outfh:\n",
    "    with open(infile, 'r') as infh:\n",
    "        for line in infh:\n",
    "            outfh.write(line)\n",
    "            if line.startswith(sentry):\n",
    "                outfh.write(append)"
   ]
  },
  {
   "cell_type": "code",
   "execution_count": null,
   "metadata": {},
   "outputs": [],
   "source": [
    "# Check output.\n",
    "with open(topol, 'r') as fh:\n",
    "    for line in fh:\n",
    "        print(line.rstrip())"
   ]
  },
  {
   "cell_type": "markdown",
   "metadata": {},
   "source": [
    "We're going to wrap the following command line from the msm tutorial, with a few edits.\n",
    "\n",
    "    !gmx grompp -f em -p run${i}/topol.top  -c run${i}/solvated.gro -o run${i}/em.tpr\n",
    "\n",
    "Note that GROMACS allows you to give a file argument that is not the actual filename. To avoid confusion, I will try to be explicit.\n",
    "\n",
    "Also note that we rewrote the topology file to a new filename."
   ]
  },
  {
   "cell_type": "code",
   "execution_count": null,
   "metadata": {},
   "outputs": [],
   "source": [
    "grompp = gmx.commandline_operation(\n",
    "    'gmx',\n",
    "    ('grompp',),\n",
    "    input_files={\n",
    "        '-f': os.path.join(input_dir, 'em.mdp'),\n",
    "        '-p': topol,\n",
    "        '-c': solvated\n",
    "    },\n",
    "    output_files={\n",
    "        '-o': os.path.join(cmd_dir, 'em.tpr'),\n",
    "    }\n",
    ")"
   ]
  },
  {
   "cell_type": "code",
   "execution_count": null,
   "metadata": {},
   "outputs": [],
   "source": [
    "if grompp.output.returncode.result() != 0:\n",
    "    print(grompp.output.erroroutput.result())"
   ]
  },
  {
   "cell_type": "code",
   "execution_count": null,
   "metadata": {},
   "outputs": [],
   "source": [
    "run_input = grompp.output.file['-o']"
   ]
  },
  {
   "cell_type": "markdown",
   "metadata": {},
   "source": [
    "### optional\n",
    "assert Path(run_input.result()).exists()"
   ]
  },
  {
   "cell_type": "code",
   "execution_count": null,
   "metadata": {},
   "outputs": [],
   "source": [
    "tpr = gmx.read_tpr(run_input)"
   ]
  },
  {
   "cell_type": "code",
   "execution_count": null,
   "metadata": {},
   "outputs": [],
   "source": [
    "tpr.output.parameters.result()"
   ]
  },
  {
   "cell_type": "markdown",
   "metadata": {},
   "source": [
    "!cd run${i} ; gmx mdrun -s em.tpr"
   ]
  },
  {
   "cell_type": "code",
   "execution_count": null,
   "metadata": {},
   "outputs": [],
   "source": [
    "em = gmx.mdrun(tpr)"
   ]
  },
  {
   "cell_type": "code",
   "execution_count": null,
   "metadata": {},
   "outputs": [],
   "source": [
    "em.output.trajectory.result()"
   ]
  },
  {
   "cell_type": "code",
   "execution_count": null,
   "metadata": {},
   "outputs": [],
   "source": [
    "em_dir = em.output._work_dir.result()\n",
    "os.listdir(em_dir)"
   ]
  },
  {
   "cell_type": "code",
   "execution_count": null,
   "metadata": {},
   "outputs": [],
   "source": [
    "# Sorry. gmxapi.mdrun.output.conformation is not implemented.\n",
    "conformation = os.path.join(em_dir, 'confout.gro')"
   ]
  },
  {
   "cell_type": "markdown",
   "metadata": {},
   "source": [
    "# Production phase\n",
    "Generate new simulation input using the final frame of the energy minimization.\n",
    "Run a stochastic dynamics integrator on the new run input."
   ]
  },
  {
   "cell_type": "code",
   "execution_count": null,
   "metadata": {},
   "outputs": [],
   "source": [
    "cmd_dir = str(clean_dir(os.path.join(wd, 'md_pp')))"
   ]
  },
  {
   "cell_type": "markdown",
   "metadata": {},
   "source": [
    "!gmx grompp -f run -p run${i}/topol.top -c run${i}/confout.gro -o run${i}/run.tpr"
   ]
  },
  {
   "cell_type": "code",
   "execution_count": null,
   "metadata": {},
   "outputs": [],
   "source": [
    "grompp = gmx.commandline_operation(\n",
    "    'gmx',\n",
    "    ('grompp',),\n",
    "    input_files={\n",
    "        '-f': input_dir/'run.mdp',\n",
    "        '-p': topol,\n",
    "        '-c': conformation\n",
    "    },\n",
    "    output_files={\n",
    "        '-o': os.path.join(cmd_dir, 'run.tpr'),\n",
    "    }\n",
    ")"
   ]
  },
  {
   "cell_type": "markdown",
   "metadata": {},
   "source": [
    "### optional\n",
    "if grompp.output.returncode.result() != 0:\n",
    "    print(grompp.output.erroroutput.result())\n",
    "os.listdir(cmd_dir)"
   ]
  },
  {
   "cell_type": "markdown",
   "metadata": {},
   "source": [
    "Note that this run input file writes frequent output that we don't need for this tutorial. Let's modify the input to reduce the output interval."
   ]
  },
  {
   "cell_type": "code",
   "execution_count": null,
   "metadata": {},
   "outputs": [],
   "source": [
    "sim_input = gmx.read_tpr(grompp.output.file['-o'])"
   ]
  },
  {
   "cell_type": "code",
   "execution_count": null,
   "metadata": {},
   "outputs": [],
   "source": [
    "sim_input.output.parameters.result()"
   ]
  },
  {
   "cell_type": "code",
   "execution_count": null,
   "metadata": {},
   "outputs": [],
   "source": [
    "modified_input = gmx.modify_input(sim_input,\n",
    "                                  parameters={\n",
    "                                      'nstxout-compressed': 1000,\n",
    "                                      'nsteps': 3000\n",
    "                                  }\n",
    "                                 )"
   ]
  },
  {
   "cell_type": "code",
   "execution_count": null,
   "metadata": {},
   "outputs": [],
   "source": [
    "md = gmx.mdrun(modified_input)"
   ]
  },
  {
   "cell_type": "markdown",
   "metadata": {},
   "source": [
    "## Force resolution of data dependencies"
   ]
  },
  {
   "cell_type": "code",
   "execution_count": null,
   "metadata": {},
   "outputs": [],
   "source": [
    "md.output.parameters.result()"
   ]
  },
  {
   "cell_type": "code",
   "execution_count": null,
   "metadata": {},
   "outputs": [],
   "source": [
    "print(md.output._work_dir.result())"
   ]
  },
  {
   "cell_type": "code",
   "execution_count": null,
   "metadata": {},
   "outputs": [],
   "source": [
    "os.listdir(md.output._work_dir.result())"
   ]
  },
  {
   "cell_type": "markdown",
   "metadata": {},
   "source": [
    "# How do we handle multiple pipelines?"
   ]
  },
  {
   "cell_type": "code",
   "execution_count": null,
   "metadata": {},
   "outputs": [],
   "source": [
    "md = gmx.mdrun([modified_input, modified_input])"
   ]
  },
  {
   "cell_type": "code",
   "execution_count": null,
   "metadata": {},
   "outputs": [],
   "source": [
    "md.output.ensemble_width"
   ]
  },
  {
   "cell_type": "code",
   "execution_count": null,
   "metadata": {},
   "outputs": [],
   "source": [
    "md.output._work_dir.description"
   ]
  },
  {
   "cell_type": "code",
   "execution_count": null,
   "metadata": {},
   "outputs": [],
   "source": [
    "# TODO: Launch MPI ranks from within the notebook.\n",
    "md.output._work_dir.result()"
   ]
  },
  {
   "cell_type": "code",
   "execution_count": null,
   "metadata": {},
   "outputs": [],
   "source": []
  }
 ],
 "metadata": {
  "kernelspec": {
   "display_name": "Python 3",
   "language": "python",
   "name": "python3"
  },
  "language_info": {
   "codemirror_mode": {
    "name": "ipython",
    "version": 3
   },
   "file_extension": ".py",
   "mimetype": "text/x-python",
   "name": "python",
   "nbconvert_exporter": "python",
   "pygments_lexer": "ipython3",
   "version": "3.8.6"
  }
 },
 "nbformat": 4,
 "nbformat_minor": 2
}